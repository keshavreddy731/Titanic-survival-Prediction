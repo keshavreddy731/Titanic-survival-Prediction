{
 "cells": [
  {
   "cell_type": "code",
   "execution_count": 1,
   "id": "southwest-samba",
   "metadata": {
    "_cell_guid": "b1076dfc-b9ad-4769-8c92-a6c4dae69d19",
    "_uuid": "8f2839f25d086af736a60e9eeb907d3b93b6e0e5",
    "execution": {
     "iopub.execute_input": "2021-04-17T11:27:13.675832Z",
     "iopub.status.busy": "2021-04-17T11:27:13.675143Z",
     "iopub.status.idle": "2021-04-17T11:27:13.680344Z",
     "shell.execute_reply": "2021-04-17T11:27:13.679616Z"
    },
    "papermill": {
     "duration": 0.034401,
     "end_time": "2021-04-17T11:27:13.680496",
     "exception": false,
     "start_time": "2021-04-17T11:27:13.646095",
     "status": "completed"
    },
    "tags": []
   },
   "outputs": [
    {
     "name": "stdout",
     "output_type": "stream",
     "text": [
      "/kaggle/input/titanic/train.csv\n",
      "/kaggle/input/titanic/test.csv\n",
      "/kaggle/input/titanic/gender_submission.csv\n"
     ]
    }
   ],
   "source": [
    "# This Python 3 environment comes with many helpful analytics libraries installed\n",
    "# It is defined by the kaggle/python Docker image: https://github.com/kaggle/docker-python\n",
    "# For example, here's several helpful packages to load\n",
    "\n",
    "import numpy as np # linear algebra\n",
    "import pandas as pd # data processing, CSV file I/O (e.g. pd.read_csv)\n",
    "\n",
    "# Input data files are available in the read-only \"../input/\" directory\n",
    "# For example, running this (by clicking run or pressing Shift+Enter) will list all files under the input directory\n",
    "\n",
    "import os\n",
    "for dirname, _, filenames in os.walk('/kaggle/input'):\n",
    "    for filename in filenames:\n",
    "        print(os.path.join(dirname, filename))\n",
    "\n",
    "# You can write up to 20GB to the current directory (/kaggle/working/) that gets preserved as output when you create a version using \"Save & Run All\" \n",
    "# You can also write temporary files to /kaggle/temp/, but they won't be saved outside of the current session"
   ]
  },
  {
   "cell_type": "code",
   "execution_count": 2,
   "id": "renewable-folks",
   "metadata": {
    "execution": {
     "iopub.execute_input": "2021-04-17T11:27:13.731089Z",
     "iopub.status.busy": "2021-04-17T11:27:13.730429Z",
     "iopub.status.idle": "2021-04-17T11:27:13.766125Z",
     "shell.execute_reply": "2021-04-17T11:27:13.765620Z"
    },
    "papermill": {
     "duration": 0.062586,
     "end_time": "2021-04-17T11:27:13.766284",
     "exception": false,
     "start_time": "2021-04-17T11:27:13.703698",
     "status": "completed"
    },
    "tags": []
   },
   "outputs": [],
   "source": [
    "train_data=pd.read_csv('/kaggle/input/titanic/train.csv')\n",
    "test_data=pd.read_csv('/kaggle/input/titanic/test.csv')\n"
   ]
  },
  {
   "cell_type": "code",
   "execution_count": 3,
   "id": "satisfied-growth",
   "metadata": {
    "execution": {
     "iopub.execute_input": "2021-04-17T11:27:13.815629Z",
     "iopub.status.busy": "2021-04-17T11:27:13.814936Z",
     "iopub.status.idle": "2021-04-17T11:27:13.855137Z",
     "shell.execute_reply": "2021-04-17T11:27:13.854410Z"
    },
    "papermill": {
     "duration": 0.066217,
     "end_time": "2021-04-17T11:27:13.855284",
     "exception": false,
     "start_time": "2021-04-17T11:27:13.789067",
     "status": "completed"
    },
    "tags": []
   },
   "outputs": [
    {
     "data": {
      "text/html": [
       "<div>\n",
       "<style scoped>\n",
       "    .dataframe tbody tr th:only-of-type {\n",
       "        vertical-align: middle;\n",
       "    }\n",
       "\n",
       "    .dataframe tbody tr th {\n",
       "        vertical-align: top;\n",
       "    }\n",
       "\n",
       "    .dataframe thead th {\n",
       "        text-align: right;\n",
       "    }\n",
       "</style>\n",
       "<table border=\"1\" class=\"dataframe\">\n",
       "  <thead>\n",
       "    <tr style=\"text-align: right;\">\n",
       "      <th></th>\n",
       "      <th>PassengerId</th>\n",
       "      <th>Survived</th>\n",
       "      <th>Pclass</th>\n",
       "      <th>Name</th>\n",
       "      <th>Sex</th>\n",
       "      <th>Age</th>\n",
       "      <th>SibSp</th>\n",
       "      <th>Parch</th>\n",
       "      <th>Ticket</th>\n",
       "      <th>Fare</th>\n",
       "      <th>Cabin</th>\n",
       "      <th>Embarked</th>\n",
       "      <th>cabin_adv</th>\n",
       "      <th>cabin_multiple</th>\n",
       "    </tr>\n",
       "  </thead>\n",
       "  <tbody>\n",
       "    <tr>\n",
       "      <th>0</th>\n",
       "      <td>1</td>\n",
       "      <td>0</td>\n",
       "      <td>3</td>\n",
       "      <td>Braund, Mr. Owen Harris</td>\n",
       "      <td>male</td>\n",
       "      <td>22.0</td>\n",
       "      <td>1</td>\n",
       "      <td>0</td>\n",
       "      <td>A/5 21171</td>\n",
       "      <td>7.2500</td>\n",
       "      <td>NaN</td>\n",
       "      <td>S</td>\n",
       "      <td>n</td>\n",
       "      <td>0</td>\n",
       "    </tr>\n",
       "    <tr>\n",
       "      <th>1</th>\n",
       "      <td>2</td>\n",
       "      <td>1</td>\n",
       "      <td>1</td>\n",
       "      <td>Cumings, Mrs. John Bradley (Florence Briggs Th...</td>\n",
       "      <td>female</td>\n",
       "      <td>38.0</td>\n",
       "      <td>1</td>\n",
       "      <td>0</td>\n",
       "      <td>PC 17599</td>\n",
       "      <td>71.2833</td>\n",
       "      <td>C85</td>\n",
       "      <td>C</td>\n",
       "      <td>C</td>\n",
       "      <td>1</td>\n",
       "    </tr>\n",
       "    <tr>\n",
       "      <th>2</th>\n",
       "      <td>3</td>\n",
       "      <td>1</td>\n",
       "      <td>3</td>\n",
       "      <td>Heikkinen, Miss. Laina</td>\n",
       "      <td>female</td>\n",
       "      <td>26.0</td>\n",
       "      <td>0</td>\n",
       "      <td>0</td>\n",
       "      <td>STON/O2. 3101282</td>\n",
       "      <td>7.9250</td>\n",
       "      <td>NaN</td>\n",
       "      <td>S</td>\n",
       "      <td>n</td>\n",
       "      <td>0</td>\n",
       "    </tr>\n",
       "    <tr>\n",
       "      <th>3</th>\n",
       "      <td>4</td>\n",
       "      <td>1</td>\n",
       "      <td>1</td>\n",
       "      <td>Futrelle, Mrs. Jacques Heath (Lily May Peel)</td>\n",
       "      <td>female</td>\n",
       "      <td>35.0</td>\n",
       "      <td>1</td>\n",
       "      <td>0</td>\n",
       "      <td>113803</td>\n",
       "      <td>53.1000</td>\n",
       "      <td>C123</td>\n",
       "      <td>S</td>\n",
       "      <td>C</td>\n",
       "      <td>1</td>\n",
       "    </tr>\n",
       "    <tr>\n",
       "      <th>4</th>\n",
       "      <td>5</td>\n",
       "      <td>0</td>\n",
       "      <td>3</td>\n",
       "      <td>Allen, Mr. William Henry</td>\n",
       "      <td>male</td>\n",
       "      <td>35.0</td>\n",
       "      <td>0</td>\n",
       "      <td>0</td>\n",
       "      <td>373450</td>\n",
       "      <td>8.0500</td>\n",
       "      <td>NaN</td>\n",
       "      <td>S</td>\n",
       "      <td>n</td>\n",
       "      <td>0</td>\n",
       "    </tr>\n",
       "  </tbody>\n",
       "</table>\n",
       "</div>"
      ],
      "text/plain": [
       "   PassengerId  Survived  Pclass  \\\n",
       "0            1         0       3   \n",
       "1            2         1       1   \n",
       "2            3         1       3   \n",
       "3            4         1       1   \n",
       "4            5         0       3   \n",
       "\n",
       "                                                Name     Sex   Age  SibSp  \\\n",
       "0                            Braund, Mr. Owen Harris    male  22.0      1   \n",
       "1  Cumings, Mrs. John Bradley (Florence Briggs Th...  female  38.0      1   \n",
       "2                             Heikkinen, Miss. Laina  female  26.0      0   \n",
       "3       Futrelle, Mrs. Jacques Heath (Lily May Peel)  female  35.0      1   \n",
       "4                           Allen, Mr. William Henry    male  35.0      0   \n",
       "\n",
       "   Parch            Ticket     Fare Cabin Embarked cabin_adv  cabin_multiple  \n",
       "0      0         A/5 21171   7.2500   NaN        S         n               0  \n",
       "1      0          PC 17599  71.2833   C85        C         C               1  \n",
       "2      0  STON/O2. 3101282   7.9250   NaN        S         n               0  \n",
       "3      0            113803  53.1000  C123        S         C               1  \n",
       "4      0            373450   8.0500   NaN        S         n               0  "
      ]
     },
     "execution_count": 3,
     "metadata": {},
     "output_type": "execute_result"
    }
   ],
   "source": [
    "train_data['cabin_adv'] = train_data.Cabin.apply(lambda x: str(x)[0])\n",
    "train_data['cabin_multiple'] = train_data.Cabin.apply(lambda x: 0 if pd.isna(x) else len(x.split(' ')))\n",
    "train_data.head()"
   ]
  },
  {
   "cell_type": "code",
   "execution_count": 4,
   "id": "informational-salon",
   "metadata": {
    "execution": {
     "iopub.execute_input": "2021-04-17T11:27:13.911896Z",
     "iopub.status.busy": "2021-04-17T11:27:13.909826Z",
     "iopub.status.idle": "2021-04-17T11:27:14.135198Z",
     "shell.execute_reply": "2021-04-17T11:27:14.134583Z"
    },
    "papermill": {
     "duration": 0.255347,
     "end_time": "2021-04-17T11:27:14.135350",
     "exception": false,
     "start_time": "2021-04-17T11:27:13.880003",
     "status": "completed"
    },
    "tags": []
   },
   "outputs": [
    {
     "data": {
      "text/plain": [
       "<AxesSubplot:>"
      ]
     },
     "execution_count": 4,
     "metadata": {},
     "output_type": "execute_result"
    },
    {
     "data": {
      "image/png": "[encoded data removed]",
      "text/plain": [
       "<Figure size 432x288 with 1 Axes>"
      ]
     },
     "metadata": {
      "needs_background": "light"
     },
     "output_type": "display_data"
    }
   ],
   "source": [
    "train_data.Age=train_data.Age.fillna(train_data.Age.median())\n",
    "train_data.dropna(subset=[\"Embarked\"],inplace=True)\n",
    "train_data['norm_fare'] = np.log(train_data.Fare+1)\n",
    "train_data['norm_fare'].hist()"
   ]
  },
  {
   "cell_type": "code",
   "execution_count": 5,
   "id": "broken-cathedral",
   "metadata": {
    "execution": {
     "iopub.execute_input": "2021-04-17T11:27:14.191109Z",
     "iopub.status.busy": "2021-04-17T11:27:14.190475Z",
     "iopub.status.idle": "2021-04-17T11:27:14.193354Z",
     "shell.execute_reply": "2021-04-17T11:27:14.192673Z"
    },
    "papermill": {
     "duration": 0.03378,
     "end_time": "2021-04-17T11:27:14.193516",
     "exception": false,
     "start_time": "2021-04-17T11:27:14.159736",
     "status": "completed"
    },
    "tags": []
   },
   "outputs": [],
   "source": [
    "train_data.Pclass=train_data.Pclass.astype(str)\n"
   ]
  },
  {
   "cell_type": "code",
   "execution_count": 6,
   "id": "ecological-night",
   "metadata": {
    "execution": {
     "iopub.execute_input": "2021-04-17T11:27:14.246205Z",
     "iopub.status.busy": "2021-04-17T11:27:14.245552Z",
     "iopub.status.idle": "2021-04-17T11:27:14.272183Z",
     "shell.execute_reply": "2021-04-17T11:27:14.272706Z"
    },
    "papermill": {
     "duration": 0.054441,
     "end_time": "2021-04-17T11:27:14.272871",
     "exception": false,
     "start_time": "2021-04-17T11:27:14.218430",
     "status": "completed"
    },
    "tags": []
   },
   "outputs": [
    {
     "data": {
      "text/html": [
       "<div>\n",
       "<style scoped>\n",
       "    .dataframe tbody tr th:only-of-type {\n",
       "        vertical-align: middle;\n",
       "    }\n",
       "\n",
       "    .dataframe tbody tr th {\n",
       "        vertical-align: top;\n",
       "    }\n",
       "\n",
       "    .dataframe thead th {\n",
       "        text-align: right;\n",
       "    }\n",
       "</style>\n",
       "<table border=\"1\" class=\"dataframe\">\n",
       "  <thead>\n",
       "    <tr style=\"text-align: right;\">\n",
       "      <th></th>\n",
       "      <th>cabin_multiple</th>\n",
       "      <th>Sex_female</th>\n",
       "      <th>Sex_male</th>\n",
       "      <th>Embarked_C</th>\n",
       "      <th>Embarked_Q</th>\n",
       "      <th>Embarked_S</th>\n",
       "      <th>cabin_adv_A</th>\n",
       "      <th>cabin_adv_B</th>\n",
       "      <th>cabin_adv_C</th>\n",
       "      <th>cabin_adv_D</th>\n",
       "      <th>cabin_adv_E</th>\n",
       "      <th>cabin_adv_F</th>\n",
       "      <th>cabin_adv_G</th>\n",
       "      <th>cabin_adv_T</th>\n",
       "      <th>cabin_adv_n</th>\n",
       "      <th>Pclass_1</th>\n",
       "      <th>Pclass_2</th>\n",
       "      <th>Pclass_3</th>\n",
       "    </tr>\n",
       "  </thead>\n",
       "  <tbody>\n",
       "    <tr>\n",
       "      <th>0</th>\n",
       "      <td>0</td>\n",
       "      <td>0</td>\n",
       "      <td>1</td>\n",
       "      <td>0</td>\n",
       "      <td>0</td>\n",
       "      <td>1</td>\n",
       "      <td>0</td>\n",
       "      <td>0</td>\n",
       "      <td>0</td>\n",
       "      <td>0</td>\n",
       "      <td>0</td>\n",
       "      <td>0</td>\n",
       "      <td>0</td>\n",
       "      <td>0</td>\n",
       "      <td>1</td>\n",
       "      <td>0</td>\n",
       "      <td>0</td>\n",
       "      <td>1</td>\n",
       "    </tr>\n",
       "    <tr>\n",
       "      <th>1</th>\n",
       "      <td>1</td>\n",
       "      <td>1</td>\n",
       "      <td>0</td>\n",
       "      <td>1</td>\n",
       "      <td>0</td>\n",
       "      <td>0</td>\n",
       "      <td>0</td>\n",
       "      <td>0</td>\n",
       "      <td>1</td>\n",
       "      <td>0</td>\n",
       "      <td>0</td>\n",
       "      <td>0</td>\n",
       "      <td>0</td>\n",
       "      <td>0</td>\n",
       "      <td>0</td>\n",
       "      <td>1</td>\n",
       "      <td>0</td>\n",
       "      <td>0</td>\n",
       "    </tr>\n",
       "    <tr>\n",
       "      <th>2</th>\n",
       "      <td>0</td>\n",
       "      <td>1</td>\n",
       "      <td>0</td>\n",
       "      <td>0</td>\n",
       "      <td>0</td>\n",
       "      <td>1</td>\n",
       "      <td>0</td>\n",
       "      <td>0</td>\n",
       "      <td>0</td>\n",
       "      <td>0</td>\n",
       "      <td>0</td>\n",
       "      <td>0</td>\n",
       "      <td>0</td>\n",
       "      <td>0</td>\n",
       "      <td>1</td>\n",
       "      <td>0</td>\n",
       "      <td>0</td>\n",
       "      <td>1</td>\n",
       "    </tr>\n",
       "    <tr>\n",
       "      <th>3</th>\n",
       "      <td>1</td>\n",
       "      <td>1</td>\n",
       "      <td>0</td>\n",
       "      <td>0</td>\n",
       "      <td>0</td>\n",
       "      <td>1</td>\n",
       "      <td>0</td>\n",
       "      <td>0</td>\n",
       "      <td>1</td>\n",
       "      <td>0</td>\n",
       "      <td>0</td>\n",
       "      <td>0</td>\n",
       "      <td>0</td>\n",
       "      <td>0</td>\n",
       "      <td>0</td>\n",
       "      <td>1</td>\n",
       "      <td>0</td>\n",
       "      <td>0</td>\n",
       "    </tr>\n",
       "    <tr>\n",
       "      <th>4</th>\n",
       "      <td>0</td>\n",
       "      <td>0</td>\n",
       "      <td>1</td>\n",
       "      <td>0</td>\n",
       "      <td>0</td>\n",
       "      <td>1</td>\n",
       "      <td>0</td>\n",
       "      <td>0</td>\n",
       "      <td>0</td>\n",
       "      <td>0</td>\n",
       "      <td>0</td>\n",
       "      <td>0</td>\n",
       "      <td>0</td>\n",
       "      <td>0</td>\n",
       "      <td>1</td>\n",
       "      <td>0</td>\n",
       "      <td>0</td>\n",
       "      <td>1</td>\n",
       "    </tr>\n",
       "  </tbody>\n",
       "</table>\n",
       "</div>"
      ],
      "text/plain": [
       "   cabin_multiple  Sex_female  Sex_male  Embarked_C  Embarked_Q  Embarked_S  \\\n",
       "0               0           0         1           0           0           1   \n",
       "1               1           1         0           1           0           0   \n",
       "2               0           1         0           0           0           1   \n",
       "3               1           1         0           0           0           1   \n",
       "4               0           0         1           0           0           1   \n",
       "\n",
       "   cabin_adv_A  cabin_adv_B  cabin_adv_C  cabin_adv_D  cabin_adv_E  \\\n",
       "0            0            0            0            0            0   \n",
       "1            0            0            1            0            0   \n",
       "2            0            0            0            0            0   \n",
       "3            0            0            1            0            0   \n",
       "4            0            0            0            0            0   \n",
       "\n",
       "   cabin_adv_F  cabin_adv_G  cabin_adv_T  cabin_adv_n  Pclass_1  Pclass_2  \\\n",
       "0            0            0            0            1         0         0   \n",
       "1            0            0            0            0         1         0   \n",
       "2            0            0            0            1         0         0   \n",
       "3            0            0            0            0         1         0   \n",
       "4            0            0            0            1         0         0   \n",
       "\n",
       "   Pclass_3  \n",
       "0         1  \n",
       "1         0  \n",
       "2         1  \n",
       "3         0  \n",
       "4         1  "
      ]
     },
     "execution_count": 6,
     "metadata": {},
     "output_type": "execute_result"
    }
   ],
   "source": [
    "train_dum=pd.get_dummies(train_data[[\"Sex\",\"Embarked\",\"cabin_multiple\",\"cabin_adv\",\"Pclass\"]])\n",
    "train_dum.head()"
   ]
  },
  {
   "cell_type": "code",
   "execution_count": 7,
   "id": "nominated-miller",
   "metadata": {
    "execution": {
     "iopub.execute_input": "2021-04-17T11:27:14.327611Z",
     "iopub.status.busy": "2021-04-17T11:27:14.326957Z",
     "iopub.status.idle": "2021-04-17T11:27:14.332606Z",
     "shell.execute_reply": "2021-04-17T11:27:14.333150Z"
    },
    "papermill": {
     "duration": 0.03459,
     "end_time": "2021-04-17T11:27:14.333328",
     "exception": false,
     "start_time": "2021-04-17T11:27:14.298738",
     "status": "completed"
    },
    "tags": []
   },
   "outputs": [],
   "source": [
    "x_data=train_data[[\"Age\",\"SibSp\",\"Parch\",\"norm_fare\"]]\n",
    "y_data=train_data[[\"Survived\"]]"
   ]
  },
  {
   "cell_type": "code",
   "execution_count": 8,
   "id": "numeric-forward",
   "metadata": {
    "execution": {
     "iopub.execute_input": "2021-04-17T11:27:14.391991Z",
     "iopub.status.busy": "2021-04-17T11:27:14.391364Z",
     "iopub.status.idle": "2021-04-17T11:27:14.395583Z",
     "shell.execute_reply": "2021-04-17T11:27:14.396036Z"
    },
    "papermill": {
     "duration": 0.037605,
     "end_time": "2021-04-17T11:27:14.396207",
     "exception": false,
     "start_time": "2021-04-17T11:27:14.358602",
     "status": "completed"
    },
    "tags": []
   },
   "outputs": [
    {
     "data": {
      "text/html": [
       "<div>\n",
       "<style scoped>\n",
       "    .dataframe tbody tr th:only-of-type {\n",
       "        vertical-align: middle;\n",
       "    }\n",
       "\n",
       "    .dataframe tbody tr th {\n",
       "        vertical-align: top;\n",
       "    }\n",
       "\n",
       "    .dataframe thead th {\n",
       "        text-align: right;\n",
       "    }\n",
       "</style>\n",
       "<table border=\"1\" class=\"dataframe\">\n",
       "  <thead>\n",
       "    <tr style=\"text-align: right;\">\n",
       "      <th></th>\n",
       "      <th>Survived</th>\n",
       "    </tr>\n",
       "  </thead>\n",
       "  <tbody>\n",
       "    <tr>\n",
       "      <th>0</th>\n",
       "      <td>0</td>\n",
       "    </tr>\n",
       "    <tr>\n",
       "      <th>1</th>\n",
       "      <td>1</td>\n",
       "    </tr>\n",
       "    <tr>\n",
       "      <th>2</th>\n",
       "      <td>1</td>\n",
       "    </tr>\n",
       "    <tr>\n",
       "      <th>3</th>\n",
       "      <td>1</td>\n",
       "    </tr>\n",
       "    <tr>\n",
       "      <th>4</th>\n",
       "      <td>0</td>\n",
       "    </tr>\n",
       "  </tbody>\n",
       "</table>\n",
       "</div>"
      ],
      "text/plain": [
       "   Survived\n",
       "0         0\n",
       "1         1\n",
       "2         1\n",
       "3         1\n",
       "4         0"
      ]
     },
     "execution_count": 8,
     "metadata": {},
     "output_type": "execute_result"
    }
   ],
   "source": [
    "y_data.head()"
   ]
  },
  {
   "cell_type": "code",
   "execution_count": 9,
   "id": "pretty-italian",
   "metadata": {
    "execution": {
     "iopub.execute_input": "2021-04-17T11:27:14.454677Z",
     "iopub.status.busy": "2021-04-17T11:27:14.452390Z",
     "iopub.status.idle": "2021-04-17T11:27:14.457694Z",
     "shell.execute_reply": "2021-04-17T11:27:14.457150Z"
    },
    "papermill": {
     "duration": 0.035478,
     "end_time": "2021-04-17T11:27:14.457828",
     "exception": false,
     "start_time": "2021-04-17T11:27:14.422350",
     "status": "completed"
    },
    "tags": []
   },
   "outputs": [],
   "source": [
    "x_data=pd.concat([train_dum,x_data],axis=1)\n"
   ]
  },
  {
   "cell_type": "code",
   "execution_count": 10,
   "id": "aggressive-flower",
   "metadata": {
    "execution": {
     "iopub.execute_input": "2021-04-17T11:27:14.516791Z",
     "iopub.status.busy": "2021-04-17T11:27:14.515807Z",
     "iopub.status.idle": "2021-04-17T11:27:14.532483Z",
     "shell.execute_reply": "2021-04-17T11:27:14.531872Z"
    },
    "papermill": {
     "duration": 0.048896,
     "end_time": "2021-04-17T11:27:14.532626",
     "exception": false,
     "start_time": "2021-04-17T11:27:14.483730",
     "status": "completed"
    },
    "tags": []
   },
   "outputs": [
    {
     "data": {
      "text/plain": [
       "<bound method DataFrame.info of      cabin_multiple  Sex_female  Sex_male  Embarked_C  Embarked_Q  Embarked_S  \\\n",
       "0                 0           0         1           0           0           1   \n",
       "1                 1           1         0           1           0           0   \n",
       "2                 0           1         0           0           0           1   \n",
       "3                 1           1         0           0           0           1   \n",
       "4                 0           0         1           0           0           1   \n",
       "..              ...         ...       ...         ...         ...         ...   \n",
       "886               0           0         1           0           0           1   \n",
       "887               1           1         0           0           0           1   \n",
       "888               0           1         0           0           0           1   \n",
       "889               1           0         1           1           0           0   \n",
       "890               0           0         1           0           1           0   \n",
       "\n",
       "     cabin_adv_A  cabin_adv_B  cabin_adv_C  cabin_adv_D  ...  cabin_adv_G  \\\n",
       "0              0            0            0            0  ...            0   \n",
       "1              0            0            1            0  ...            0   \n",
       "2              0            0            0            0  ...            0   \n",
       "3              0            0            1            0  ...            0   \n",
       "4              0            0            0            0  ...            0   \n",
       "..           ...          ...          ...          ...  ...          ...   \n",
       "886            0            0            0            0  ...            0   \n",
       "887            0            1            0            0  ...            0   \n",
       "888            0            0            0            0  ...            0   \n",
       "889            0            0            1            0  ...            0   \n",
       "890            0            0            0            0  ...            0   \n",
       "\n",
       "     cabin_adv_T  cabin_adv_n  Pclass_1  Pclass_2  Pclass_3   Age  SibSp  \\\n",
       "0              0            1         0         0         1  22.0      1   \n",
       "1              0            0         1         0         0  38.0      1   \n",
       "2              0            1         0         0         1  26.0      0   \n",
       "3              0            0         1         0         0  35.0      1   \n",
       "4              0            1         0         0         1  35.0      0   \n",
       "..           ...          ...       ...       ...       ...   ...    ...   \n",
       "886            0            1         0         1         0  27.0      0   \n",
       "887            0            0         1         0         0  19.0      0   \n",
       "888            0            1         0         0         1  28.0      1   \n",
       "889            0            0         1         0         0  26.0      0   \n",
       "890            0            1         0         0         1  32.0      0   \n",
       "\n",
       "     Parch  norm_fare  \n",
       "0        0   2.110213  \n",
       "1        0   4.280593  \n",
       "2        0   2.188856  \n",
       "3        0   3.990834  \n",
       "4        0   2.202765  \n",
       "..     ...        ...  \n",
       "886      0   2.639057  \n",
       "887      0   3.433987  \n",
       "888      2   3.196630  \n",
       "889      0   3.433987  \n",
       "890      0   2.169054  \n",
       "\n",
       "[889 rows x 22 columns]>"
      ]
     },
     "execution_count": 10,
     "metadata": {},
     "output_type": "execute_result"
    }
   ],
   "source": [
    "x_data.info"
   ]
  },
  {
   "cell_type": "code",
   "execution_count": 11,
   "id": "periodic-wesley",
   "metadata": {
    "execution": {
     "iopub.execute_input": "2021-04-17T11:27:14.590212Z",
     "iopub.status.busy": "2021-04-17T11:27:14.589419Z",
     "iopub.status.idle": "2021-04-17T11:27:14.591912Z",
     "shell.execute_reply": "2021-04-17T11:27:14.591328Z"
    },
    "papermill": {
     "duration": 0.03293,
     "end_time": "2021-04-17T11:27:14.592041",
     "exception": false,
     "start_time": "2021-04-17T11:27:14.559111",
     "status": "completed"
    },
    "tags": []
   },
   "outputs": [],
   "source": [
    "#from sklearn.preprocessing import StandardScaler\n",
    "#sc=StandardScaler()\n",
    "#sc.fit(x_data)\n",
    "#x_train_std=sc.transform(x_data)\n"
   ]
  },
  {
   "cell_type": "code",
   "execution_count": 12,
   "id": "scheduled-mercy",
   "metadata": {
    "execution": {
     "iopub.execute_input": "2021-04-17T11:27:14.648887Z",
     "iopub.status.busy": "2021-04-17T11:27:14.648246Z",
     "iopub.status.idle": "2021-04-17T11:27:14.651218Z",
     "shell.execute_reply": "2021-04-17T11:27:14.651837Z"
    },
    "papermill": {
     "duration": 0.033157,
     "end_time": "2021-04-17T11:27:14.651990",
     "exception": false,
     "start_time": "2021-04-17T11:27:14.618833",
     "status": "completed"
    },
    "tags": []
   },
   "outputs": [],
   "source": [
    "#sc.fit(y_data)\n",
    "#y_std=sc.transform(y_data)"
   ]
  },
  {
   "cell_type": "code",
   "execution_count": 13,
   "id": "apparent-storm",
   "metadata": {
    "execution": {
     "iopub.execute_input": "2021-04-17T11:27:14.708727Z",
     "iopub.status.busy": "2021-04-17T11:27:14.708044Z",
     "iopub.status.idle": "2021-04-17T11:27:14.713368Z",
     "shell.execute_reply": "2021-04-17T11:27:14.713895Z"
    },
    "papermill": {
     "duration": 0.035511,
     "end_time": "2021-04-17T11:27:14.714057",
     "exception": false,
     "start_time": "2021-04-17T11:27:14.678546",
     "status": "completed"
    },
    "tags": []
   },
   "outputs": [
    {
     "name": "stdout",
     "output_type": "stream",
     "text": [
      "(889, 22)\n",
      "(889, 1)\n"
     ]
    }
   ],
   "source": [
    "print(x_data.shape)\n",
    "print(y_data.shape)"
   ]
  },
  {
   "cell_type": "code",
   "execution_count": 14,
   "id": "distant-consideration",
   "metadata": {
    "execution": {
     "iopub.execute_input": "2021-04-17T11:27:14.772149Z",
     "iopub.status.busy": "2021-04-17T11:27:14.771537Z",
     "iopub.status.idle": "2021-04-17T11:27:14.788553Z",
     "shell.execute_reply": "2021-04-17T11:27:14.789003Z"
    },
    "papermill": {
     "duration": 0.047809,
     "end_time": "2021-04-17T11:27:14.789173",
     "exception": false,
     "start_time": "2021-04-17T11:27:14.741364",
     "status": "completed"
    },
    "tags": []
   },
   "outputs": [
    {
     "data": {
      "text/html": [
       "<div>\n",
       "<style scoped>\n",
       "    .dataframe tbody tr th:only-of-type {\n",
       "        vertical-align: middle;\n",
       "    }\n",
       "\n",
       "    .dataframe tbody tr th {\n",
       "        vertical-align: top;\n",
       "    }\n",
       "\n",
       "    .dataframe thead th {\n",
       "        text-align: right;\n",
       "    }\n",
       "</style>\n",
       "<table border=\"1\" class=\"dataframe\">\n",
       "  <thead>\n",
       "    <tr style=\"text-align: right;\">\n",
       "      <th></th>\n",
       "      <th>PassengerId</th>\n",
       "      <th>Pclass</th>\n",
       "      <th>Name</th>\n",
       "      <th>Sex</th>\n",
       "      <th>Age</th>\n",
       "      <th>SibSp</th>\n",
       "      <th>Parch</th>\n",
       "      <th>Ticket</th>\n",
       "      <th>Fare</th>\n",
       "      <th>Cabin</th>\n",
       "      <th>Embarked</th>\n",
       "    </tr>\n",
       "  </thead>\n",
       "  <tbody>\n",
       "    <tr>\n",
       "      <th>0</th>\n",
       "      <td>892</td>\n",
       "      <td>3</td>\n",
       "      <td>Kelly, Mr. James</td>\n",
       "      <td>male</td>\n",
       "      <td>34.5</td>\n",
       "      <td>0</td>\n",
       "      <td>0</td>\n",
       "      <td>330911</td>\n",
       "      <td>7.8292</td>\n",
       "      <td>NaN</td>\n",
       "      <td>Q</td>\n",
       "    </tr>\n",
       "    <tr>\n",
       "      <th>1</th>\n",
       "      <td>893</td>\n",
       "      <td>3</td>\n",
       "      <td>Wilkes, Mrs. James (Ellen Needs)</td>\n",
       "      <td>female</td>\n",
       "      <td>47.0</td>\n",
       "      <td>1</td>\n",
       "      <td>0</td>\n",
       "      <td>363272</td>\n",
       "      <td>7.0000</td>\n",
       "      <td>NaN</td>\n",
       "      <td>S</td>\n",
       "    </tr>\n",
       "    <tr>\n",
       "      <th>2</th>\n",
       "      <td>894</td>\n",
       "      <td>2</td>\n",
       "      <td>Myles, Mr. Thomas Francis</td>\n",
       "      <td>male</td>\n",
       "      <td>62.0</td>\n",
       "      <td>0</td>\n",
       "      <td>0</td>\n",
       "      <td>240276</td>\n",
       "      <td>9.6875</td>\n",
       "      <td>NaN</td>\n",
       "      <td>Q</td>\n",
       "    </tr>\n",
       "    <tr>\n",
       "      <th>3</th>\n",
       "      <td>895</td>\n",
       "      <td>3</td>\n",
       "      <td>Wirz, Mr. Albert</td>\n",
       "      <td>male</td>\n",
       "      <td>27.0</td>\n",
       "      <td>0</td>\n",
       "      <td>0</td>\n",
       "      <td>315154</td>\n",
       "      <td>8.6625</td>\n",
       "      <td>NaN</td>\n",
       "      <td>S</td>\n",
       "    </tr>\n",
       "    <tr>\n",
       "      <th>4</th>\n",
       "      <td>896</td>\n",
       "      <td>3</td>\n",
       "      <td>Hirvonen, Mrs. Alexander (Helga E Lindqvist)</td>\n",
       "      <td>female</td>\n",
       "      <td>22.0</td>\n",
       "      <td>1</td>\n",
       "      <td>1</td>\n",
       "      <td>3101298</td>\n",
       "      <td>12.2875</td>\n",
       "      <td>NaN</td>\n",
       "      <td>S</td>\n",
       "    </tr>\n",
       "  </tbody>\n",
       "</table>\n",
       "</div>"
      ],
      "text/plain": [
       "   PassengerId  Pclass                                          Name     Sex  \\\n",
       "0          892       3                              Kelly, Mr. James    male   \n",
       "1          893       3              Wilkes, Mrs. James (Ellen Needs)  female   \n",
       "2          894       2                     Myles, Mr. Thomas Francis    male   \n",
       "3          895       3                              Wirz, Mr. Albert    male   \n",
       "4          896       3  Hirvonen, Mrs. Alexander (Helga E Lindqvist)  female   \n",
       "\n",
       "    Age  SibSp  Parch   Ticket     Fare Cabin Embarked  \n",
       "0  34.5      0      0   330911   7.8292   NaN        Q  \n",
       "1  47.0      1      0   363272   7.0000   NaN        S  \n",
       "2  62.0      0      0   240276   9.6875   NaN        Q  \n",
       "3  27.0      0      0   315154   8.6625   NaN        S  \n",
       "4  22.0      1      1  3101298  12.2875   NaN        S  "
      ]
     },
     "execution_count": 14,
     "metadata": {},
     "output_type": "execute_result"
    }
   ],
   "source": [
    "test_data.head()"
   ]
  },
  {
   "cell_type": "code",
   "execution_count": 15,
   "id": "excited-contrary",
   "metadata": {
    "execution": {
     "iopub.execute_input": "2021-04-17T11:27:14.852336Z",
     "iopub.status.busy": "2021-04-17T11:27:14.851623Z",
     "iopub.status.idle": "2021-04-17T11:27:14.880400Z",
     "shell.execute_reply": "2021-04-17T11:27:14.881079Z"
    },
    "papermill": {
     "duration": 0.062048,
     "end_time": "2021-04-17T11:27:14.881265",
     "exception": false,
     "start_time": "2021-04-17T11:27:14.819217",
     "status": "completed"
    },
    "tags": []
   },
   "outputs": [
    {
     "data": {
      "text/html": [
       "<div>\n",
       "<style scoped>\n",
       "    .dataframe tbody tr th:only-of-type {\n",
       "        vertical-align: middle;\n",
       "    }\n",
       "\n",
       "    .dataframe tbody tr th {\n",
       "        vertical-align: top;\n",
       "    }\n",
       "\n",
       "    .dataframe thead th {\n",
       "        text-align: right;\n",
       "    }\n",
       "</style>\n",
       "<table border=\"1\" class=\"dataframe\">\n",
       "  <thead>\n",
       "    <tr style=\"text-align: right;\">\n",
       "      <th></th>\n",
       "      <th>PassengerId</th>\n",
       "      <th>Pclass</th>\n",
       "      <th>Name</th>\n",
       "      <th>Sex</th>\n",
       "      <th>Age</th>\n",
       "      <th>SibSp</th>\n",
       "      <th>Parch</th>\n",
       "      <th>Ticket</th>\n",
       "      <th>Fare</th>\n",
       "      <th>Cabin</th>\n",
       "      <th>Embarked</th>\n",
       "      <th>cabin_adv</th>\n",
       "      <th>cabin_multiple</th>\n",
       "      <th>norm_fare</th>\n",
       "    </tr>\n",
       "  </thead>\n",
       "  <tbody>\n",
       "    <tr>\n",
       "      <th>0</th>\n",
       "      <td>892</td>\n",
       "      <td>3</td>\n",
       "      <td>Kelly, Mr. James</td>\n",
       "      <td>male</td>\n",
       "      <td>34.5</td>\n",
       "      <td>0</td>\n",
       "      <td>0</td>\n",
       "      <td>330911</td>\n",
       "      <td>7.8292</td>\n",
       "      <td>NaN</td>\n",
       "      <td>Q</td>\n",
       "      <td>n</td>\n",
       "      <td>0</td>\n",
       "      <td>2.178064</td>\n",
       "    </tr>\n",
       "    <tr>\n",
       "      <th>1</th>\n",
       "      <td>893</td>\n",
       "      <td>3</td>\n",
       "      <td>Wilkes, Mrs. James (Ellen Needs)</td>\n",
       "      <td>female</td>\n",
       "      <td>47.0</td>\n",
       "      <td>1</td>\n",
       "      <td>0</td>\n",
       "      <td>363272</td>\n",
       "      <td>7.0000</td>\n",
       "      <td>NaN</td>\n",
       "      <td>S</td>\n",
       "      <td>n</td>\n",
       "      <td>0</td>\n",
       "      <td>2.079442</td>\n",
       "    </tr>\n",
       "    <tr>\n",
       "      <th>2</th>\n",
       "      <td>894</td>\n",
       "      <td>2</td>\n",
       "      <td>Myles, Mr. Thomas Francis</td>\n",
       "      <td>male</td>\n",
       "      <td>62.0</td>\n",
       "      <td>0</td>\n",
       "      <td>0</td>\n",
       "      <td>240276</td>\n",
       "      <td>9.6875</td>\n",
       "      <td>NaN</td>\n",
       "      <td>Q</td>\n",
       "      <td>n</td>\n",
       "      <td>0</td>\n",
       "      <td>2.369075</td>\n",
       "    </tr>\n",
       "    <tr>\n",
       "      <th>3</th>\n",
       "      <td>895</td>\n",
       "      <td>3</td>\n",
       "      <td>Wirz, Mr. Albert</td>\n",
       "      <td>male</td>\n",
       "      <td>27.0</td>\n",
       "      <td>0</td>\n",
       "      <td>0</td>\n",
       "      <td>315154</td>\n",
       "      <td>8.6625</td>\n",
       "      <td>NaN</td>\n",
       "      <td>S</td>\n",
       "      <td>n</td>\n",
       "      <td>0</td>\n",
       "      <td>2.268252</td>\n",
       "    </tr>\n",
       "    <tr>\n",
       "      <th>4</th>\n",
       "      <td>896</td>\n",
       "      <td>3</td>\n",
       "      <td>Hirvonen, Mrs. Alexander (Helga E Lindqvist)</td>\n",
       "      <td>female</td>\n",
       "      <td>22.0</td>\n",
       "      <td>1</td>\n",
       "      <td>1</td>\n",
       "      <td>3101298</td>\n",
       "      <td>12.2875</td>\n",
       "      <td>NaN</td>\n",
       "      <td>S</td>\n",
       "      <td>n</td>\n",
       "      <td>0</td>\n",
       "      <td>2.586824</td>\n",
       "    </tr>\n",
       "  </tbody>\n",
       "</table>\n",
       "</div>"
      ],
      "text/plain": [
       "   PassengerId  Pclass                                          Name     Sex  \\\n",
       "0          892       3                              Kelly, Mr. James    male   \n",
       "1          893       3              Wilkes, Mrs. James (Ellen Needs)  female   \n",
       "2          894       2                     Myles, Mr. Thomas Francis    male   \n",
       "3          895       3                              Wirz, Mr. Albert    male   \n",
       "4          896       3  Hirvonen, Mrs. Alexander (Helga E Lindqvist)  female   \n",
       "\n",
       "    Age  SibSp  Parch   Ticket     Fare Cabin Embarked cabin_adv  \\\n",
       "0  34.5      0      0   330911   7.8292   NaN        Q         n   \n",
       "1  47.0      1      0   363272   7.0000   NaN        S         n   \n",
       "2  62.0      0      0   240276   9.6875   NaN        Q         n   \n",
       "3  27.0      0      0   315154   8.6625   NaN        S         n   \n",
       "4  22.0      1      1  3101298  12.2875   NaN        S         n   \n",
       "\n",
       "   cabin_multiple  norm_fare  \n",
       "0               0   2.178064  \n",
       "1               0   2.079442  \n",
       "2               0   2.369075  \n",
       "3               0   2.268252  \n",
       "4               0   2.586824  "
      ]
     },
     "execution_count": 15,
     "metadata": {},
     "output_type": "execute_result"
    }
   ],
   "source": [
    "test_data['cabin_adv'] = test_data.Cabin.apply(lambda x: str(x)[0])\n",
    "test_data['cabin_multiple'] = test_data.Cabin.apply(lambda x: 0 if pd.isna(x) else len(x.split(' ')))\n",
    "test_data.Age=test_data.Age.fillna(test_data.Age.median())\n",
    "test_data.dropna(subset=[\"Embarked\"],inplace=True)\n",
    "test_data['norm_fare'] = np.log(test_data.Fare+1)\n",
    "\n",
    "test_data.head()"
   ]
  },
  {
   "cell_type": "code",
   "execution_count": 16,
   "id": "interstate-ranking",
   "metadata": {
    "execution": {
     "iopub.execute_input": "2021-04-17T11:27:14.962546Z",
     "iopub.status.busy": "2021-04-17T11:27:14.956780Z",
     "iopub.status.idle": "2021-04-17T11:27:14.965379Z",
     "shell.execute_reply": "2021-04-17T11:27:14.965835Z"
    },
    "papermill": {
     "duration": 0.053494,
     "end_time": "2021-04-17T11:27:14.966029",
     "exception": false,
     "start_time": "2021-04-17T11:27:14.912535",
     "status": "completed"
    },
    "tags": []
   },
   "outputs": [],
   "source": [
    "test_data.Pclass=test_data.Pclass.astype(str)\n",
    "\n",
    "test_dum=pd.get_dummies(test_data[[\"Sex\",\"Embarked\",\"cabin_multiple\",\"cabin_adv\",\"Pclass\"]])\n",
    "\n",
    "x_test=test_data[[\"Age\",\"SibSp\",\"Parch\",\"norm_fare\"]]\n",
    "\n",
    "\n",
    "x_test=pd.concat([test_dum,x_test],axis=1)\n",
    "\n"
   ]
  },
  {
   "cell_type": "code",
   "execution_count": 17,
   "id": "invisible-arrangement",
   "metadata": {
    "execution": {
     "iopub.execute_input": "2021-04-17T11:27:15.032661Z",
     "iopub.status.busy": "2021-04-17T11:27:15.032026Z",
     "iopub.status.idle": "2021-04-17T11:27:15.051533Z",
     "shell.execute_reply": "2021-04-17T11:27:15.052020Z"
    },
    "papermill": {
     "duration": 0.054343,
     "end_time": "2021-04-17T11:27:15.052183",
     "exception": false,
     "start_time": "2021-04-17T11:27:14.997840",
     "status": "completed"
    },
    "tags": []
   },
   "outputs": [
    {
     "data": {
      "text/html": [
       "<div>\n",
       "<style scoped>\n",
       "    .dataframe tbody tr th:only-of-type {\n",
       "        vertical-align: middle;\n",
       "    }\n",
       "\n",
       "    .dataframe tbody tr th {\n",
       "        vertical-align: top;\n",
       "    }\n",
       "\n",
       "    .dataframe thead th {\n",
       "        text-align: right;\n",
       "    }\n",
       "</style>\n",
       "<table border=\"1\" class=\"dataframe\">\n",
       "  <thead>\n",
       "    <tr style=\"text-align: right;\">\n",
       "      <th></th>\n",
       "      <th>cabin_multiple</th>\n",
       "      <th>Sex_female</th>\n",
       "      <th>Sex_male</th>\n",
       "      <th>Embarked_C</th>\n",
       "      <th>Embarked_Q</th>\n",
       "      <th>Embarked_S</th>\n",
       "      <th>cabin_adv_A</th>\n",
       "      <th>cabin_adv_B</th>\n",
       "      <th>cabin_adv_C</th>\n",
       "      <th>cabin_adv_D</th>\n",
       "      <th>...</th>\n",
       "      <th>cabin_adv_F</th>\n",
       "      <th>cabin_adv_G</th>\n",
       "      <th>cabin_adv_n</th>\n",
       "      <th>Pclass_1</th>\n",
       "      <th>Pclass_2</th>\n",
       "      <th>Pclass_3</th>\n",
       "      <th>Age</th>\n",
       "      <th>SibSp</th>\n",
       "      <th>Parch</th>\n",
       "      <th>norm_fare</th>\n",
       "    </tr>\n",
       "  </thead>\n",
       "  <tbody>\n",
       "    <tr>\n",
       "      <th>0</th>\n",
       "      <td>0</td>\n",
       "      <td>0</td>\n",
       "      <td>1</td>\n",
       "      <td>0</td>\n",
       "      <td>1</td>\n",
       "      <td>0</td>\n",
       "      <td>0</td>\n",
       "      <td>0</td>\n",
       "      <td>0</td>\n",
       "      <td>0</td>\n",
       "      <td>...</td>\n",
       "      <td>0</td>\n",
       "      <td>0</td>\n",
       "      <td>1</td>\n",
       "      <td>0</td>\n",
       "      <td>0</td>\n",
       "      <td>1</td>\n",
       "      <td>34.5</td>\n",
       "      <td>0</td>\n",
       "      <td>0</td>\n",
       "      <td>2.178064</td>\n",
       "    </tr>\n",
       "    <tr>\n",
       "      <th>1</th>\n",
       "      <td>0</td>\n",
       "      <td>1</td>\n",
       "      <td>0</td>\n",
       "      <td>0</td>\n",
       "      <td>0</td>\n",
       "      <td>1</td>\n",
       "      <td>0</td>\n",
       "      <td>0</td>\n",
       "      <td>0</td>\n",
       "      <td>0</td>\n",
       "      <td>...</td>\n",
       "      <td>0</td>\n",
       "      <td>0</td>\n",
       "      <td>1</td>\n",
       "      <td>0</td>\n",
       "      <td>0</td>\n",
       "      <td>1</td>\n",
       "      <td>47.0</td>\n",
       "      <td>1</td>\n",
       "      <td>0</td>\n",
       "      <td>2.079442</td>\n",
       "    </tr>\n",
       "    <tr>\n",
       "      <th>2</th>\n",
       "      <td>0</td>\n",
       "      <td>0</td>\n",
       "      <td>1</td>\n",
       "      <td>0</td>\n",
       "      <td>1</td>\n",
       "      <td>0</td>\n",
       "      <td>0</td>\n",
       "      <td>0</td>\n",
       "      <td>0</td>\n",
       "      <td>0</td>\n",
       "      <td>...</td>\n",
       "      <td>0</td>\n",
       "      <td>0</td>\n",
       "      <td>1</td>\n",
       "      <td>0</td>\n",
       "      <td>1</td>\n",
       "      <td>0</td>\n",
       "      <td>62.0</td>\n",
       "      <td>0</td>\n",
       "      <td>0</td>\n",
       "      <td>2.369075</td>\n",
       "    </tr>\n",
       "    <tr>\n",
       "      <th>3</th>\n",
       "      <td>0</td>\n",
       "      <td>0</td>\n",
       "      <td>1</td>\n",
       "      <td>0</td>\n",
       "      <td>0</td>\n",
       "      <td>1</td>\n",
       "      <td>0</td>\n",
       "      <td>0</td>\n",
       "      <td>0</td>\n",
       "      <td>0</td>\n",
       "      <td>...</td>\n",
       "      <td>0</td>\n",
       "      <td>0</td>\n",
       "      <td>1</td>\n",
       "      <td>0</td>\n",
       "      <td>0</td>\n",
       "      <td>1</td>\n",
       "      <td>27.0</td>\n",
       "      <td>0</td>\n",
       "      <td>0</td>\n",
       "      <td>2.268252</td>\n",
       "    </tr>\n",
       "    <tr>\n",
       "      <th>4</th>\n",
       "      <td>0</td>\n",
       "      <td>1</td>\n",
       "      <td>0</td>\n",
       "      <td>0</td>\n",
       "      <td>0</td>\n",
       "      <td>1</td>\n",
       "      <td>0</td>\n",
       "      <td>0</td>\n",
       "      <td>0</td>\n",
       "      <td>0</td>\n",
       "      <td>...</td>\n",
       "      <td>0</td>\n",
       "      <td>0</td>\n",
       "      <td>1</td>\n",
       "      <td>0</td>\n",
       "      <td>0</td>\n",
       "      <td>1</td>\n",
       "      <td>22.0</td>\n",
       "      <td>1</td>\n",
       "      <td>1</td>\n",
       "      <td>2.586824</td>\n",
       "    </tr>\n",
       "  </tbody>\n",
       "</table>\n",
       "<p>5 rows × 21 columns</p>\n",
       "</div>"
      ],
      "text/plain": [
       "   cabin_multiple  Sex_female  Sex_male  Embarked_C  Embarked_Q  Embarked_S  \\\n",
       "0               0           0         1           0           1           0   \n",
       "1               0           1         0           0           0           1   \n",
       "2               0           0         1           0           1           0   \n",
       "3               0           0         1           0           0           1   \n",
       "4               0           1         0           0           0           1   \n",
       "\n",
       "   cabin_adv_A  cabin_adv_B  cabin_adv_C  cabin_adv_D  ...  cabin_adv_F  \\\n",
       "0            0            0            0            0  ...            0   \n",
       "1            0            0            0            0  ...            0   \n",
       "2            0            0            0            0  ...            0   \n",
       "3            0            0            0            0  ...            0   \n",
       "4            0            0            0            0  ...            0   \n",
       "\n",
       "   cabin_adv_G  cabin_adv_n  Pclass_1  Pclass_2  Pclass_3   Age  SibSp  Parch  \\\n",
       "0            0            1         0         0         1  34.5      0      0   \n",
       "1            0            1         0         0         1  47.0      1      0   \n",
       "2            0            1         0         1         0  62.0      0      0   \n",
       "3            0            1         0         0         1  27.0      0      0   \n",
       "4            0            1         0         0         1  22.0      1      1   \n",
       "\n",
       "   norm_fare  \n",
       "0   2.178064  \n",
       "1   2.079442  \n",
       "2   2.369075  \n",
       "3   2.268252  \n",
       "4   2.586824  \n",
       "\n",
       "[5 rows x 21 columns]"
      ]
     },
     "execution_count": 17,
     "metadata": {},
     "output_type": "execute_result"
    }
   ],
   "source": [
    "x_test.head()"
   ]
  },
  {
   "cell_type": "code",
   "execution_count": 18,
   "id": "banner-province",
   "metadata": {
    "execution": {
     "iopub.execute_input": "2021-04-17T11:27:15.114733Z",
     "iopub.status.busy": "2021-04-17T11:27:15.113848Z",
     "iopub.status.idle": "2021-04-17T11:27:15.118192Z",
     "shell.execute_reply": "2021-04-17T11:27:15.117683Z"
    },
    "papermill": {
     "duration": 0.03641,
     "end_time": "2021-04-17T11:27:15.118340",
     "exception": false,
     "start_time": "2021-04-17T11:27:15.081930",
     "status": "completed"
    },
    "tags": []
   },
   "outputs": [],
   "source": [
    "#from sklearn.preprocessing import StandardScaler\n",
    "#sc=StandardScaler()\n",
    "#sc.fit(x_test)\n",
    "#x_test_std=sc.transform(x_test)"
   ]
  },
  {
   "cell_type": "code",
   "execution_count": 19,
   "id": "joined-buying",
   "metadata": {
    "execution": {
     "iopub.execute_input": "2021-04-17T11:27:15.181952Z",
     "iopub.status.busy": "2021-04-17T11:27:15.181232Z",
     "iopub.status.idle": "2021-04-17T11:27:15.183148Z",
     "shell.execute_reply": "2021-04-17T11:27:15.183630Z"
    },
    "papermill": {
     "duration": 0.035908,
     "end_time": "2021-04-17T11:27:15.183782",
     "exception": false,
     "start_time": "2021-04-17T11:27:15.147874",
     "status": "completed"
    },
    "tags": []
   },
   "outputs": [],
   "source": [
    "#len(x_test_std)"
   ]
  },
  {
   "cell_type": "code",
   "execution_count": 20,
   "id": "experienced-delight",
   "metadata": {
    "execution": {
     "iopub.execute_input": "2021-04-17T11:27:15.247612Z",
     "iopub.status.busy": "2021-04-17T11:27:15.246854Z",
     "iopub.status.idle": "2021-04-17T11:27:15.251215Z",
     "shell.execute_reply": "2021-04-17T11:27:15.251729Z"
    },
    "papermill": {
     "duration": 0.03775,
     "end_time": "2021-04-17T11:27:15.251889",
     "exception": false,
     "start_time": "2021-04-17T11:27:15.214139",
     "status": "completed"
    },
    "tags": []
   },
   "outputs": [],
   "source": [
    "x_test.norm_fare=x_test.norm_fare.fillna(x_test.norm_fare.mean())"
   ]
  },
  {
   "cell_type": "code",
   "execution_count": 21,
   "id": "current-banking",
   "metadata": {
    "execution": {
     "iopub.execute_input": "2021-04-17T11:27:15.315622Z",
     "iopub.status.busy": "2021-04-17T11:27:15.315007Z",
     "iopub.status.idle": "2021-04-17T11:27:15.320630Z",
     "shell.execute_reply": "2021-04-17T11:27:15.319945Z"
    },
    "papermill": {
     "duration": 0.038302,
     "end_time": "2021-04-17T11:27:15.320761",
     "exception": false,
     "start_time": "2021-04-17T11:27:15.282459",
     "status": "completed"
    },
    "tags": []
   },
   "outputs": [
    {
     "data": {
      "text/plain": [
       "Index(['cabin_multiple', 'Sex_female', 'Sex_male', 'Embarked_C', 'Embarked_Q',\n",
       "       'Embarked_S', 'cabin_adv_A', 'cabin_adv_B', 'cabin_adv_C',\n",
       "       'cabin_adv_D', 'cabin_adv_E', 'cabin_adv_F', 'cabin_adv_G',\n",
       "       'cabin_adv_T', 'cabin_adv_n', 'Pclass_1', 'Pclass_2', 'Pclass_3', 'Age',\n",
       "       'SibSp', 'Parch', 'norm_fare'],\n",
       "      dtype='object')"
      ]
     },
     "execution_count": 21,
     "metadata": {},
     "output_type": "execute_result"
    }
   ],
   "source": [
    "x_data.columns\n"
   ]
  },
  {
   "cell_type": "code",
   "execution_count": 22,
   "id": "perfect-toilet",
   "metadata": {
    "execution": {
     "iopub.execute_input": "2021-04-17T11:27:15.392982Z",
     "iopub.status.busy": "2021-04-17T11:27:15.392013Z",
     "iopub.status.idle": "2021-04-17T11:27:15.395942Z",
     "shell.execute_reply": "2021-04-17T11:27:15.395264Z"
    },
    "papermill": {
     "duration": 0.045169,
     "end_time": "2021-04-17T11:27:15.396077",
     "exception": false,
     "start_time": "2021-04-17T11:27:15.350908",
     "status": "completed"
    },
    "tags": []
   },
   "outputs": [
    {
     "data": {
      "text/plain": [
       "Index(['cabin_multiple', 'Sex_female', 'Sex_male', 'Embarked_C', 'Embarked_Q',\n",
       "       'Embarked_S', 'cabin_adv_A', 'cabin_adv_B', 'cabin_adv_C',\n",
       "       'cabin_adv_D', 'cabin_adv_E', 'cabin_adv_F', 'cabin_adv_G',\n",
       "       'cabin_adv_n', 'Pclass_1', 'Pclass_2', 'Pclass_3', 'Age', 'SibSp',\n",
       "       'Parch', 'norm_fare'],\n",
       "      dtype='object')"
      ]
     },
     "execution_count": 22,
     "metadata": {},
     "output_type": "execute_result"
    }
   ],
   "source": [
    "x_test.columns"
   ]
  },
  {
   "cell_type": "code",
   "execution_count": 23,
   "id": "persistent-antique",
   "metadata": {
    "execution": {
     "iopub.execute_input": "2021-04-17T11:27:15.462779Z",
     "iopub.status.busy": "2021-04-17T11:27:15.461329Z",
     "iopub.status.idle": "2021-04-17T11:27:15.467490Z",
     "shell.execute_reply": "2021-04-17T11:27:15.468116Z"
    },
    "papermill": {
     "duration": 0.041464,
     "end_time": "2021-04-17T11:27:15.468304",
     "exception": false,
     "start_time": "2021-04-17T11:27:15.426840",
     "status": "completed"
    },
    "tags": []
   },
   "outputs": [],
   "source": [
    "x_test[[\"cabin_adv_T\"]]=0"
   ]
  },
  {
   "cell_type": "code",
   "execution_count": 24,
   "id": "political-unemployment",
   "metadata": {
    "execution": {
     "iopub.execute_input": "2021-04-17T11:27:15.538576Z",
     "iopub.status.busy": "2021-04-17T11:27:15.537943Z",
     "iopub.status.idle": "2021-04-17T11:27:15.543031Z",
     "shell.execute_reply": "2021-04-17T11:27:15.542562Z"
    },
    "papermill": {
     "duration": 0.040589,
     "end_time": "2021-04-17T11:27:15.543158",
     "exception": false,
     "start_time": "2021-04-17T11:27:15.502569",
     "status": "completed"
    },
    "tags": []
   },
   "outputs": [
    {
     "data": {
      "text/plain": [
       "Index(['cabin_multiple', 'Sex_female', 'Sex_male', 'Embarked_C', 'Embarked_Q',\n",
       "       'Embarked_S', 'cabin_adv_A', 'cabin_adv_B', 'cabin_adv_C',\n",
       "       'cabin_adv_D', 'cabin_adv_E', 'cabin_adv_F', 'cabin_adv_G',\n",
       "       'cabin_adv_n', 'Pclass_1', 'Pclass_2', 'Pclass_3', 'Age', 'SibSp',\n",
       "       'Parch', 'norm_fare', 'cabin_adv_T'],\n",
       "      dtype='object')"
      ]
     },
     "execution_count": 24,
     "metadata": {},
     "output_type": "execute_result"
    }
   ],
   "source": [
    "x_test.columns"
   ]
  },
  {
   "cell_type": "code",
   "execution_count": 25,
   "id": "absent-hazard",
   "metadata": {
    "execution": {
     "iopub.execute_input": "2021-04-17T11:27:15.610824Z",
     "iopub.status.busy": "2021-04-17T11:27:15.610184Z",
     "iopub.status.idle": "2021-04-17T11:27:16.814653Z",
     "shell.execute_reply": "2021-04-17T11:27:16.815128Z"
    },
    "papermill": {
     "duration": 1.240861,
     "end_time": "2021-04-17T11:27:16.815345",
     "exception": false,
     "start_time": "2021-04-17T11:27:15.574484",
     "status": "completed"
    },
    "tags": []
   },
   "outputs": [],
   "source": [
    "from sklearn.tree import DecisionTreeClassifier\n",
    "DT=DecisionTreeClassifier()\n",
    "DT.fit(x_data,y_data)\n",
    "pred=DT.predict(x_test)\n"
   ]
  },
  {
   "cell_type": "code",
   "execution_count": 26,
   "id": "requested-danish",
   "metadata": {
    "execution": {
     "iopub.execute_input": "2021-04-17T11:27:16.881670Z",
     "iopub.status.busy": "2021-04-17T11:27:16.881050Z",
     "iopub.status.idle": "2021-04-17T11:27:16.938691Z",
     "shell.execute_reply": "2021-04-17T11:27:16.938020Z"
    },
    "papermill": {
     "duration": 0.092092,
     "end_time": "2021-04-17T11:27:16.938824",
     "exception": false,
     "start_time": "2021-04-17T11:27:16.846732",
     "status": "completed"
    },
    "tags": []
   },
   "outputs": [
    {
     "name": "stdout",
     "output_type": "stream",
     "text": [
      "[0.74157303 0.76404494 0.82022472 0.76404494 0.83050847]\n",
      "0.7840792230051419\n"
     ]
    }
   ],
   "source": [
    "from sklearn.model_selection import cross_val_score\n",
    "dt = DecisionTreeClassifier(random_state = 1)\n",
    "cv = cross_val_score(dt,x_data,y_data,cv=5)\n",
    "print(cv)\n",
    "print(cv.mean())"
   ]
  },
  {
   "cell_type": "code",
   "execution_count": 27,
   "id": "scenic-armenia",
   "metadata": {
    "execution": {
     "iopub.execute_input": "2021-04-17T11:27:17.008637Z",
     "iopub.status.busy": "2021-04-17T11:27:17.007976Z",
     "iopub.status.idle": "2021-04-17T11:27:17.011170Z",
     "shell.execute_reply": "2021-04-17T11:27:17.010504Z"
    },
    "papermill": {
     "duration": 0.040214,
     "end_time": "2021-04-17T11:27:17.011328",
     "exception": false,
     "start_time": "2021-04-17T11:27:16.971114",
     "status": "completed"
    },
    "tags": []
   },
   "outputs": [],
   "source": [
    "from sklearn.linear_model import LogisticRegression\n",
    "from sklearn.neighbors import KNeighborsClassifier\n",
    "from sklearn.svm import SVC"
   ]
  },
  {
   "cell_type": "code",
   "execution_count": 28,
   "id": "professional-kitty",
   "metadata": {
    "execution": {
     "iopub.execute_input": "2021-04-17T11:27:17.083407Z",
     "iopub.status.busy": "2021-04-17T11:27:17.082758Z",
     "iopub.status.idle": "2021-04-17T11:27:18.228834Z",
     "shell.execute_reply": "2021-04-17T11:27:18.229716Z"
    },
    "papermill": {
     "duration": 1.186606,
     "end_time": "2021-04-17T11:27:18.229965",
     "exception": false,
     "start_time": "2021-04-17T11:27:17.043359",
     "status": "completed"
    },
    "tags": []
   },
   "outputs": [
    {
     "name": "stderr",
     "output_type": "stream",
     "text": [
      "/opt/conda/lib/python3.7/site-packages/sklearn/utils/validation.py:63: DataConversionWarning: A column-vector y was passed when a 1d array was expected. Please change the shape of y to (n_samples, ), for example using ravel().\n",
      "  return f(*args, **kwargs)\n",
      "/opt/conda/lib/python3.7/site-packages/sklearn/utils/validation.py:63: DataConversionWarning: A column-vector y was passed when a 1d array was expected. Please change the shape of y to (n_samples, ), for example using ravel().\n",
      "  return f(*args, **kwargs)\n",
      "/opt/conda/lib/python3.7/site-packages/sklearn/utils/validation.py:63: DataConversionWarning: A column-vector y was passed when a 1d array was expected. Please change the shape of y to (n_samples, ), for example using ravel().\n",
      "  return f(*args, **kwargs)\n",
      "/opt/conda/lib/python3.7/site-packages/sklearn/utils/validation.py:63: DataConversionWarning: A column-vector y was passed when a 1d array was expected. Please change the shape of y to (n_samples, ), for example using ravel().\n",
      "  return f(*args, **kwargs)\n"
     ]
    },
    {
     "name": "stdout",
     "output_type": "stream",
     "text": [
      "[0.78089888 0.80337079 0.78651685 0.79213483 0.81355932]\n",
      "0.7952961340697011\n"
     ]
    },
    {
     "name": "stderr",
     "output_type": "stream",
     "text": [
      "/opt/conda/lib/python3.7/site-packages/sklearn/utils/validation.py:63: DataConversionWarning: A column-vector y was passed when a 1d array was expected. Please change the shape of y to (n_samples, ), for example using ravel().\n",
      "  return f(*args, **kwargs)\n"
     ]
    }
   ],
   "source": [
    "lr = LogisticRegression(max_iter = 2000)\n",
    "cv = cross_val_score(lr,x_data,y_data,cv=5)\n",
    "print(cv)\n",
    "print(cv.mean())"
   ]
  },
  {
   "cell_type": "code",
   "execution_count": 29,
   "id": "circular-valentine",
   "metadata": {
    "execution": {
     "iopub.execute_input": "2021-04-17T11:27:18.348678Z",
     "iopub.status.busy": "2021-04-17T11:27:18.347757Z",
     "iopub.status.idle": "2021-04-17T11:27:18.613579Z",
     "shell.execute_reply": "2021-04-17T11:27:18.614494Z"
    },
    "papermill": {
     "duration": 0.329253,
     "end_time": "2021-04-17T11:27:18.614773",
     "exception": false,
     "start_time": "2021-04-17T11:27:18.285520",
     "status": "completed"
    },
    "tags": []
   },
   "outputs": [
    {
     "name": "stderr",
     "output_type": "stream",
     "text": [
      "/opt/conda/lib/python3.7/site-packages/sklearn/neighbors/_classification.py:179: DataConversionWarning: A column-vector y was passed when a 1d array was expected. Please change the shape of y to (n_samples,), for example using ravel().\n",
      "  return self._fit(X, y)\n",
      "/opt/conda/lib/python3.7/site-packages/sklearn/neighbors/_classification.py:179: DataConversionWarning: A column-vector y was passed when a 1d array was expected. Please change the shape of y to (n_samples,), for example using ravel().\n",
      "  return self._fit(X, y)\n",
      "/opt/conda/lib/python3.7/site-packages/sklearn/neighbors/_classification.py:179: DataConversionWarning: A column-vector y was passed when a 1d array was expected. Please change the shape of y to (n_samples,), for example using ravel().\n",
      "  return self._fit(X, y)\n",
      "/opt/conda/lib/python3.7/site-packages/sklearn/neighbors/_classification.py:179: DataConversionWarning: A column-vector y was passed when a 1d array was expected. Please change the shape of y to (n_samples,), for example using ravel().\n",
      "  return self._fit(X, y)\n"
     ]
    },
    {
     "name": "stdout",
     "output_type": "stream",
     "text": [
      "[0.78089888 0.78089888 0.76966292 0.82022472 0.84180791]\n",
      "0.7986986605725893\n"
     ]
    },
    {
     "name": "stderr",
     "output_type": "stream",
     "text": [
      "/opt/conda/lib/python3.7/site-packages/sklearn/neighbors/_classification.py:179: DataConversionWarning: A column-vector y was passed when a 1d array was expected. Please change the shape of y to (n_samples,), for example using ravel().\n",
      "  return self._fit(X, y)\n"
     ]
    }
   ],
   "source": [
    "knn = KNeighborsClassifier()\n",
    "cv = cross_val_score(knn,x_data,y_data,cv=5)\n",
    "print(cv)\n",
    "print(cv.mean())"
   ]
  },
  {
   "cell_type": "code",
   "execution_count": 30,
   "id": "third-alarm",
   "metadata": {
    "execution": {
     "iopub.execute_input": "2021-04-17T11:27:18.734532Z",
     "iopub.status.busy": "2021-04-17T11:27:18.733602Z",
     "iopub.status.idle": "2021-04-17T11:27:19.539408Z",
     "shell.execute_reply": "2021-04-17T11:27:19.538728Z"
    },
    "papermill": {
     "duration": 0.861545,
     "end_time": "2021-04-17T11:27:19.539548",
     "exception": false,
     "start_time": "2021-04-17T11:27:18.678003",
     "status": "completed"
    },
    "tags": []
   },
   "outputs": [
    {
     "name": "stderr",
     "output_type": "stream",
     "text": [
      "/opt/conda/lib/python3.7/site-packages/sklearn/utils/validation.py:63: DataConversionWarning: A column-vector y was passed when a 1d array was expected. Please change the shape of y to (n_samples, ), for example using ravel().\n",
      "  return f(*args, **kwargs)\n",
      "/opt/conda/lib/python3.7/site-packages/sklearn/utils/validation.py:63: DataConversionWarning: A column-vector y was passed when a 1d array was expected. Please change the shape of y to (n_samples, ), for example using ravel().\n",
      "  return f(*args, **kwargs)\n",
      "/opt/conda/lib/python3.7/site-packages/sklearn/utils/validation.py:63: DataConversionWarning: A column-vector y was passed when a 1d array was expected. Please change the shape of y to (n_samples, ), for example using ravel().\n",
      "  return f(*args, **kwargs)\n",
      "/opt/conda/lib/python3.7/site-packages/sklearn/utils/validation.py:63: DataConversionWarning: A column-vector y was passed when a 1d array was expected. Please change the shape of y to (n_samples, ), for example using ravel().\n",
      "  return f(*args, **kwargs)\n",
      "/opt/conda/lib/python3.7/site-packages/sklearn/utils/validation.py:63: DataConversionWarning: A column-vector y was passed when a 1d array was expected. Please change the shape of y to (n_samples, ), for example using ravel().\n",
      "  return f(*args, **kwargs)\n"
     ]
    },
    {
     "name": "stdout",
     "output_type": "stream",
     "text": [
      "[0.6741573  0.73595506 0.68539326 0.70786517 0.71751412]\n",
      "0.7041769821621278\n"
     ]
    }
   ],
   "source": [
    "svc = SVC(probability = True)\n",
    "cv = cross_val_score(svc,x_data,y_data,cv=5)\n",
    "print(cv)\n",
    "print(cv.mean())"
   ]
  },
  {
   "cell_type": "code",
   "execution_count": 31,
   "id": "searching-refrigerator",
   "metadata": {
    "execution": {
     "iopub.execute_input": "2021-04-17T11:27:19.618448Z",
     "iopub.status.busy": "2021-04-17T11:27:19.617829Z",
     "iopub.status.idle": "2021-04-17T11:27:21.774834Z",
     "shell.execute_reply": "2021-04-17T11:27:21.775665Z"
    },
    "papermill": {
     "duration": 2.199668,
     "end_time": "2021-04-17T11:27:21.775921",
     "exception": false,
     "start_time": "2021-04-17T11:27:19.576253",
     "status": "completed"
    },
    "tags": []
   },
   "outputs": [
    {
     "name": "stderr",
     "output_type": "stream",
     "text": [
      "/opt/conda/lib/python3.7/site-packages/sklearn/utils/validation.py:63: DataConversionWarning: A column-vector y was passed when a 1d array was expected. Please change the shape of y to (n_samples, ), for example using ravel().\n",
      "  return f(*args, **kwargs)\n",
      "/opt/conda/lib/python3.7/site-packages/sklearn/utils/validation.py:63: DataConversionWarning: A column-vector y was passed when a 1d array was expected. Please change the shape of y to (n_samples, ), for example using ravel().\n",
      "  return f(*args, **kwargs)\n",
      "/opt/conda/lib/python3.7/site-packages/sklearn/utils/validation.py:63: DataConversionWarning: A column-vector y was passed when a 1d array was expected. Please change the shape of y to (n_samples, ), for example using ravel().\n",
      "  return f(*args, **kwargs)\n",
      "/opt/conda/lib/python3.7/site-packages/sklearn/utils/validation.py:63: DataConversionWarning: A column-vector y was passed when a 1d array was expected. Please change the shape of y to (n_samples, ), for example using ravel().\n",
      "  return f(*args, **kwargs)\n",
      "/opt/conda/lib/python3.7/site-packages/sklearn/utils/validation.py:63: DataConversionWarning: A column-vector y was passed when a 1d array was expected. Please change the shape of y to (n_samples, ), for example using ravel().\n",
      "  return f(*args, **kwargs)\n"
     ]
    },
    {
     "name": "stdout",
     "output_type": "stream",
     "text": [
      "[0.78089888 0.79213483 0.79775281 0.80898876 0.83615819]\n",
      "0.8031866945978544\n"
     ]
    }
   ],
   "source": [
    "from sklearn.ensemble import VotingClassifier\n",
    "voting_clf = VotingClassifier(estimators = [('lr',lr),('knn',knn),('svc',svc),('dt',dt)], voting = 'hard') \n",
    "cv = cross_val_score(voting_clf,x_data,y_data,cv=5)\n",
    "print(cv)\n",
    "print(cv.mean())"
   ]
  },
  {
   "cell_type": "code",
   "execution_count": 32,
   "id": "cutting-tulsa",
   "metadata": {
    "execution": {
     "iopub.execute_input": "2021-04-17T11:27:21.890184Z",
     "iopub.status.busy": "2021-04-17T11:27:21.889194Z",
     "iopub.status.idle": "2021-04-17T11:27:22.512063Z",
     "shell.execute_reply": "2021-04-17T11:27:22.512870Z"
    },
    "papermill": {
     "duration": 0.671203,
     "end_time": "2021-04-17T11:27:22.513131",
     "exception": false,
     "start_time": "2021-04-17T11:27:21.841928",
     "status": "completed"
    },
    "tags": []
   },
   "outputs": [
    {
     "name": "stderr",
     "output_type": "stream",
     "text": [
      "/opt/conda/lib/python3.7/site-packages/sklearn/utils/validation.py:63: DataConversionWarning: A column-vector y was passed when a 1d array was expected. Please change the shape of y to (n_samples, ), for example using ravel().\n",
      "  return f(*args, **kwargs)\n"
     ]
    }
   ],
   "source": [
    "voting_clf.fit(x_data,y_data)\n",
    "y_pred_vc = voting_clf.predict(x_test).astype(int)\n",
    "basic_submission = {'PassengerId': test_data.PassengerId, 'Survived': y_pred_vc}\n",
    "base_submission = pd.DataFrame(data=basic_submission)\n",
    "base_submission.to_csv('base_submission.csv', index=False)"
   ]
  },
  {
   "cell_type": "code",
   "execution_count": null,
   "id": "casual-mercury",
   "metadata": {
    "papermill": {
     "duration": 0.038484,
     "end_time": "2021-04-17T11:27:22.599061",
     "exception": false,
     "start_time": "2021-04-17T11:27:22.560577",
     "status": "completed"
    },
    "tags": []
   },
   "outputs": [],
   "source": []
  }
 ],
 "metadata": {
  "kernelspec": {
   "display_name": "Python 3",
   "language": "python",
   "name": "python3"
  },
  "language_info": {
   "codemirror_mode": {
    "name": "ipython",
    "version": 3
   },
   "file_extension": ".py",
   "mimetype": "text/x-python",
   "name": "python",
   "nbconvert_exporter": "python",
   "pygments_lexer": "ipython3",
   "version": "3.7.9"
  },
  "papermill": {
   "default_parameters": {},
   "duration": 15.325065,
   "end_time": "2021-04-17T11:27:23.246976",
   "environment_variables": {},
   "exception": null,
   "input_path": "__notebook__.ipynb",
   "output_path": "__notebook__.ipynb",
   "parameters": {},
   "start_time": "2021-04-17T11:27:07.921911",
   "version": "2.3.2"
  }
 },
 "nbformat": 4,
 "nbformat_minor": 5
}
